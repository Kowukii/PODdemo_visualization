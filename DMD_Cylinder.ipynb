{
 "cells": [
  {
   "cell_type": "code",
   "execution_count": 2,
   "id": "439b7e1f-4007-4e41-9227-a6bab866d846",
   "metadata": {},
   "outputs": [
    {
     "data": {
      "text/plain": [
       "((89351, 151), (89351, 151), (89351, 151), 199, 449, 199, 449)"
      ]
     },
     "execution_count": 2,
     "metadata": {},
     "output_type": "execute_result"
    }
   ],
   "source": [
    "import numpy as np\n",
    "import scipy.io as scio\n",
    "import scipy\n",
    "import matplotlib\n",
    "import matplotlib.pyplot as plt\n",
    "import matplotlib.colors as mcolors\n",
    "import matplotlib.cm as cm\n",
    "data_path = \"DATA/DATA/FLUIDS/CYLINDER_ALL.mat\"\n",
    "data = scio.loadmat(data_path)\n",
    "cc_path = \"CODE/CH02_FLUIDS/CCcool.mat\"\n",
    "cc = scio.loadmat(cc_path)\n",
    "cc = cc['CC']\n",
    "cmap = mcolors.ListedColormap(cc)\n",
    "%matplotlib qt5\n",
    "Uall = data['UALL']\n",
    "Vall = data['VALL']\n",
    "VortAll = data['VORTALL']\n",
    "m = data['m'][0][0]\n",
    "n = data['n'][0][0]\n",
    "nx = data['nx'][0][0]\n",
    "ny = data['ny'][0][0]\n",
    "Uall.shape, Vall.shape, VortAll.shape, m, n, nx, ny"
   ]
  },
  {
   "cell_type": "code",
   "execution_count": 26,
   "id": "940ae0fd-dc40-4767-b5b8-8cf850442009",
   "metadata": {},
   "outputs": [],
   "source": [
    "X = VortAll.T\n",
    "Y = np.vstack((X, X))\n",
    "Y.shape\n",
    "\n",
    "UX = Y[:, 0:Y.shape[1]-1]\n",
    "UY = Y[:, 1:Y.shape[1]]\n",
    "\n",
    "UX2 = VortAll[:, 0:VortAll.shape[1]-1]\n",
    "UY2 = VortAll[:, 1:VortAll.shape[1]]"
   ]
  },
  {
   "cell_type": "code",
   "execution_count": 27,
   "id": "3f3dd82a-5542-46ab-b898-bbebadf5c8f7",
   "metadata": {},
   "outputs": [],
   "source": [
    "def DMD_class(X, Y):\n",
    "# DMD经典算法\n",
    "# 输入变量X, Y分别为时空矩阵Uxt的1~N-1列以及2~N列\n",
    "# 输出变量Dd为经过DMD分解后排序过的特征值\n",
    "# 输出变量b为模态对应的初始结果，与模态相乘后可得初始结果Ux1\n",
    "# 输出变量Time_DMD为分解后的时间序列（已排序）\n",
    "# 输出变量Phi为DMD分解后的模态结果（已排序）\n",
    "# 输出变量Energy为DMD分解后的模态能力值（已排序）\n",
    "    N = X.shape[1]\n",
    "    # Step1 对X进行svd分解\n",
    "    U, S, VT = scipy.linalg.svd(X, full_matrices=False)\n",
    "    Sd = np.diag(S) \n",
    "    r = np.sum(S > 1e-5)\n",
    "    U = U[:, 0:r]\n",
    "    Smatrix = Sd[0:r, 0:r]\n",
    "    V = VT.T[:, 0:r]\n",
    "\n",
    "    # Step2 求解转换矩阵A\n",
    "    A = U.T @ Y @ V @ scipy.linalg.inv(Smatrix)\n",
    "    # Step3 求解矩阵A的特征向量及特征值\n",
    "    D, Om = scipy.linalg.eig(A)\n",
    "    Dd = np.diag(D)\n",
    "    # Step4 求DMD模态\n",
    "    Phi = Y @ V @ scipy.linalg.inv(Smatrix) @ Om\n",
    "    # Step5 计算模态对应的初始值b\n",
    "    b, residuals, rank, singular_values = np.linalg.lstsq(Phi, X[:, 0], rcond=None)\n",
    "\n",
    "    # Step6 模态排序\n",
    "    Q = np.vander(D, N, increasing=True) # 建立范德蒙矩阵来储存特征值变换\n",
    "    Time_DMD = b.reshape(len(b), 1) * Q # 获取模态对应的时间系数\n",
    "\n",
    "    Energy = np.zeros(np.size(Phi, 1))\n",
    "    for i in range(np.size(Phi, 1)):\n",
    "        Uxt_DMD_k = np.real(Phi[:, i].reshape((Phi.shape[0], 1)) * Time_DMD[i, :].reshape((1, Time_DMD.shape[1])))\n",
    "        E_k = np.sum((Uxt_DMD_k ** 2))\n",
    "        Energy[i] = E_k\n",
    "\n",
    "    # 对于每个模态的能量进行排序\n",
    "    Ie = np.argsort(-Energy)\n",
    "    Energy = Energy[Ie]\n",
    "    Dd = Dd[Ie]\n",
    "    b = b[Ie]\n",
    "    Phi = Phi[:, Ie]\n",
    "    Time_DMD = Time_DMD[Ie, :]\n",
    "    \n",
    "    return Dd,b,Phi,Time_DMD,Energy"
   ]
  },
  {
   "cell_type": "code",
   "execution_count": 28,
   "id": "6694dd3e-ac00-4eca-b731-24cbc586bceb",
   "metadata": {},
   "outputs": [],
   "source": [
    "# 计算DMD\n",
    "Dd, b, Phi, Time_DMD, Energy = DMD_class(UX2, UY2) "
   ]
  },
  {
   "cell_type": "code",
   "execution_count": 40,
   "id": "92755de3-2a10-41e1-b517-66d1fa2b9d4d",
   "metadata": {},
   "outputs": [],
   "source": [
    "plot_durations(np.reshape(np.real(Phi[:, 5]), (ny, nx)).T)"
   ]
  },
  {
   "cell_type": "code",
   "execution_count": 43,
   "id": "85166fbc-7082-4c5d-8b02-5e9a50473722",
   "metadata": {},
   "outputs": [],
   "source": [
    "is_ipython = 'qt5' in matplotlib.get_backend()\n",
    "if is_ipython:\n",
    "    from IPython import display\n",
    "\n",
    "plt.ion()\n",
    "def plot_durations(vort):\n",
    "    plt.colormap = cmap\n",
    "    plt.clf()\n",
    "    \n",
    "    plt.pcolor(vort, cmap=cmap)\n",
    "    caxis_range = [int(-np.min(np.abs(np.min(vort)))), int(np.max(vort)), int(np.min(np.abs(np.min(vort)))), int(np.max(vort))]\n",
    "    plt.clim(caxis_range[0], caxis_range[1])\n",
    "    # 重置坐标轴\n",
    "    plt.xticks([1, 50, 100, 150, 200, 250, 300, 350, 400, 449], ['-1', '0', '1', '2', '3', '4', '5', '6', '7', '8'])\n",
    "    plt.yticks([1, 50, 100, 150, 199], ['2', '1', '0', '-1', '-2'])\n",
    "    # plt.gcf().set_position([500, 500, 900, 390])\n",
    "    plt.gca().set_zorder(10)\n",
    "    plt.ylabel('y', fontname='Arial', fontsize=14)\n",
    "    plt.xlabel('x', fontname='Arial', fontsize=14)\n",
    "    plt.axis('equal')\n",
    "    plt.contour(vort, np.linspace(-np.max(vort), -np.max(vort)/35, 6), colors='k', linestyles='solid', linewidths=1)\n",
    "    plt.contour(vort, np.linspace(np.max(vort)/35, np.max(vort), 6), colors='k', linestyles='--', linewidths=1)\n",
    "    theta = np.linspace(0, 2*np.pi, 100)\n",
    "    x = 49 + 25 * np.sin(theta)\n",
    "    y = 99 + 25 * np.cos(theta)\n",
    "    # 绘制填充的圆柱体\n",
    "    plt.fill(x, y, [.3, .3, .3])\n",
    "    # 绘制圆柱体的边界\n",
    "    plt.plot(x, y, 'k', linewidth=1.2)\n",
    "    plt.pause(0.001)\n",
    "    if is_ipython:\n",
    "        display.clear_output(wait=True)\n",
    "        display.display(plt.gcf())\n",
    "for i in range(20):\n",
    "    plot_durations(np.reshape(np.real(Phi[:, i]), (ny, nx)).T)\n",
    "    # plot_durations(np.reshape(np.imag(Phi[:, i]), (ny, nx)).T)"
   ]
  },
  {
   "cell_type": "code",
   "execution_count": 45,
   "id": "1eff7049-b8eb-40a2-bdce-021b64b6bede",
   "metadata": {},
   "outputs": [
    {
     "data": {
      "text/plain": [
       "<contextlib.ExitStack at 0x1b26c83dc70>"
      ]
     },
     "execution_count": 45,
     "metadata": {},
     "output_type": "execute_result"
    }
   ],
   "source": [
    "plt.ioff()"
   ]
  },
  {
   "cell_type": "code",
   "execution_count": 29,
   "id": "bf31d02f-595c-49f7-a170-27389ef8391e",
   "metadata": {},
   "outputs": [
    {
     "data": {
      "text/plain": [
       "(150, 150)"
      ]
     },
     "execution_count": 29,
     "metadata": {},
     "output_type": "execute_result"
    }
   ],
   "source": [
    "Dd.shape"
   ]
  },
  {
   "cell_type": "code",
   "execution_count": 48,
   "id": "8c310b04-50a9-424f-8823-bea1a3cd38fa",
   "metadata": {},
   "outputs": [],
   "source": [
    "\n",
    "# 图1 输出特征根分布\n",
    "plt.scatter(np.sum(np.real(Dd[::-1]), axis=1),\n",
    "            np.sum(np.imag(Dd[::-1]), axis=1),\n",
    "            s=30,\n",
    "            c=-np.log(Energy[::-1]),\n",
    "            cmap='viridis',\n",
    "            alpha=0.7)\n",
    "plt.colorbar()\n",
    "plt.axis('equal')\n",
    "plt.show()"
   ]
  },
  {
   "cell_type": "code",
   "execution_count": 49,
   "id": "ca4bd23f-5b1b-4e5a-9764-1a7b91757f93",
   "metadata": {},
   "outputs": [],
   "source": [
    "fig2 = plt.figure(2)\n",
    "# 图2 绘制频率和衰减图\n",
    "Fs = 1 / 0.05\n",
    "wa = np.log(np.sum(Dd, axis=1)) * Fs\n",
    "# 增加一个极小的数防止计算过程出现inf\n",
    "plt.scatter(np.real(wa),\n",
    "            np.imag(wa) / (2 * np.pi),\n",
    "            s=30,\n",
    "            c=-np.log(Energy),\n",
    "            cmap='viridis',\n",
    "            alpha=0.7)\n",
    "plt.xlabel('AttenuationRatio σ')\n",
    "plt.ylabel('Frequency w')\n",
    "plt.colorbar()\n",
    "plt.xlim(-1, 1)\n",
    "plt.ylim(-6, 6)\n",
    "plt.show()"
   ]
  },
  {
   "cell_type": "code",
   "execution_count": 50,
   "id": "4bcf704a-14d3-4af5-acd2-f1c33db7838c",
   "metadata": {},
   "outputs": [],
   "source": [
    "fig3 = plt.figure(3)\n",
    "# 频率-能量排序\n",
    "Freq = np.imag(wa) / 2 / np.pi\n",
    "# 找到大于等于0的频率部分的索引\n",
    "k = np.where(Freq >= 0)[0]\n",
    "\n",
    "# 绘制幅度谱\n",
    "plt.stem(Freq[k], np.log10(Energy[k]), basefmt='b', linefmt='b-', \n",
    "         markerfmt='bo')\n",
    "\n",
    "# 设置基线值为-6\n",
    "plt.axhline(y=-4, color='r', linestyle='--')\n",
    "\n",
    "# 显示图形\n",
    "plt.show()"
   ]
  },
  {
   "cell_type": "code",
   "execution_count": 51,
   "id": "cf9644da-aa98-4727-b68f-3a06c122299f",
   "metadata": {},
   "outputs": [],
   "source": [
    "# 计算UV向量\n",
    "def Uxyt2Uxt(Uxyt):\n",
    "    # 把3维矩阵的xyt压缩为xt\n",
    "    Ny, Nx, Nt = Uxyt.shape # 由于meshgrid定义，xy相反\n",
    "    Nxy = Ny * Nx\n",
    "    Uxt = np.reshape(Uxyt, (Nxy, Nt))\n",
    "    return Uxt\n",
    "\n",
    "def UV2UxyVxy(UVx, Ny, Nx):\n",
    "    Ux = UVx[0:Ny*Nx]\n",
    "    Vx = UVx[Ny*Nx::]\n",
    "    Uxy = np.reshape(Ux, (Ny, Nx))\n",
    "    Vxy = np.reshape(Vx, (Ny, Nx))\n",
    "    return Uxy, Vxy\n",
    "def curl(Uxy0, Vxy0, X, Y):\n",
    "\n",
    "    return (np.gradient(Uxy0, axis=0) / 80 + np.gradient(Vxy0, axis=1) / 50)"
   ]
  },
  {
   "cell_type": "code",
   "execution_count": 70,
   "id": "da39dd8a-b37f-406a-a8a6-d80bc135a0dc",
   "metadata": {},
   "outputs": [
    {
     "data": {
      "text/plain": [
       "(89351,)"
      ]
     },
     "execution_count": 70,
     "metadata": {},
     "output_type": "execute_result"
    }
   ],
   "source": [
    "\n",
    "VortK = np.real(np.outer(Phi[:, 0], Time_DMD[0, :]))\n",
    "VortK[:, 0].shape"
   ]
  },
  {
   "cell_type": "code",
   "execution_count": 64,
   "id": "aae92ec5-0bbf-4d2e-ab08-408db3bcc4b7",
   "metadata": {},
   "outputs": [],
   "source": [
    "# Uxy0, Vxy0 = UV2UxyVxy(VortAll[:, 0], ny, nx)\n",
    "plt.pcolor(VortAll[:, 0].reshape((ny, nx)).T)\n",
    "plt.xticks([1, 50, 100, 150, 200, 250, 300, 350, 400, 449], ['-1', '0', '1', '2', '3', '4', '5', '6', '7', '8'])\n",
    "plt.yticks([1, 50, 100, 150, 199], ['2', '1', '0', '-1', '-2'])\n",
    "theta = np.linspace(0, 2*np.pi, 100)\n",
    "x = 49 + 25 * np.sin(theta)\n",
    "y = 99 + 25 * np.cos(theta)\n",
    "# 绘制填充的圆柱体\n",
    "plt.fill(x, y, [.3, .3, .3])\n",
    "# 绘制圆柱体的边界\n",
    "plt.plot(x, y, 'k', linewidth=1.2)\n",
    "plt.show()"
   ]
  },
  {
   "cell_type": "code",
   "execution_count": 75,
   "id": "a56b56ec-5668-43dc-859b-0309004761ba",
   "metadata": {},
   "outputs": [],
   "source": [
    "VortK = np.real(np.outer(Phi[:, 0], Time_DMD[0, :]))\n",
    "vortk = VortK[:, 0].reshape((ny, nx)).T\n",
    "plt.pcolor(vortk)\n",
    "plt.xticks([1, 50, 100, 150, 200, 250, 300, 350, 400, 449], ['-1', '0', '1', '2', '3', '4', '5', '6', '7', '8'])\n",
    "plt.yticks([1, 50, 100, 150, 199], ['2', '1', '0', '-1', '-2'])\n",
    "theta = np.linspace(0, 2*np.pi, 100)\n",
    "plt.contour(vortk, np.linspace(-np.max(vortk), -np.max(vortk)/35, 6), colors='k', linestyles='solid', linewidths=1)\n",
    "plt.contour(vortk, np.linspace(np.max(vortk)/35, np.max(vortk), 6), colors='k', linestyles='--', linewidths=1)\n",
    "x = 49 + 25 * np.sin(theta)\n",
    "y = 99 + 25 * np.cos(theta)\n",
    "# 绘制填充的圆柱体\n",
    "plt.fill(x, y, [.3, .3, .3])\n",
    "# 绘制圆柱体的边界\n",
    "plt.plot(x, y, 'k', linewidth=1.2)\n",
    "plt.show()"
   ]
  },
  {
   "cell_type": "code",
   "execution_count": 77,
   "id": "3faa7f9f-8ea2-4c4c-a5ae-74f1afa27ceb",
   "metadata": {},
   "outputs": [
    {
     "ename": "KeyboardInterrupt",
     "evalue": "",
     "output_type": "error",
     "traceback": [
      "\u001b[1;31m---------------------------------------------------------------------------\u001b[0m",
      "\u001b[1;31mKeyboardInterrupt\u001b[0m                         Traceback (most recent call last)",
      "Cell \u001b[1;32mIn[77], line 2\u001b[0m\n\u001b[0;32m      1\u001b[0m \u001b[38;5;28;01mfor\u001b[39;00m i \u001b[38;5;129;01min\u001b[39;00m \u001b[38;5;28mrange\u001b[39m(\u001b[38;5;241m100\u001b[39m):\n\u001b[1;32m----> 2\u001b[0m     \u001b[43mplot_durations\u001b[49m\u001b[43m(\u001b[49m\u001b[43mnp\u001b[49m\u001b[38;5;241;43m.\u001b[39;49m\u001b[43mreshape\u001b[49m\u001b[43m(\u001b[49m\u001b[43mnp\u001b[49m\u001b[38;5;241;43m.\u001b[39;49m\u001b[43mreal\u001b[49m\u001b[43m(\u001b[49m\u001b[43mnp\u001b[49m\u001b[38;5;241;43m.\u001b[39;49m\u001b[43mouter\u001b[49m\u001b[43m(\u001b[49m\u001b[43mPhi\u001b[49m\u001b[43m[\u001b[49m\u001b[43m:\u001b[49m\u001b[43m,\u001b[49m\u001b[43m \u001b[49m\u001b[43mi\u001b[49m\u001b[43m]\u001b[49m\u001b[43m,\u001b[49m\u001b[43m \u001b[49m\u001b[43mTime_DMD\u001b[49m\u001b[43m[\u001b[49m\u001b[43mi\u001b[49m\u001b[43m,\u001b[49m\u001b[43m \u001b[49m\u001b[43m:\u001b[49m\u001b[43m]\u001b[49m\u001b[43m)\u001b[49m\u001b[43m)\u001b[49m\u001b[43m[\u001b[49m\u001b[43m:\u001b[49m\u001b[43m,\u001b[49m\u001b[43m \u001b[49m\u001b[43mi\u001b[49m\u001b[43m]\u001b[49m\u001b[43m,\u001b[49m\u001b[43m \u001b[49m\u001b[43m(\u001b[49m\u001b[43mny\u001b[49m\u001b[43m,\u001b[49m\u001b[43m \u001b[49m\u001b[43mnx\u001b[49m\u001b[43m)\u001b[49m\u001b[43m)\u001b[49m\u001b[38;5;241;43m.\u001b[39;49m\u001b[43mT\u001b[49m\u001b[43m)\u001b[49m\n\u001b[0;32m      3\u001b[0m     plt\u001b[38;5;241m.\u001b[39mpause(\u001b[38;5;241m0.5\u001b[39m)\n",
      "Cell \u001b[1;32mIn[43], line 10\u001b[0m, in \u001b[0;36mplot_durations\u001b[1;34m(vort)\u001b[0m\n\u001b[0;32m      7\u001b[0m plt\u001b[38;5;241m.\u001b[39mcolormap \u001b[38;5;241m=\u001b[39m cmap\n\u001b[0;32m      8\u001b[0m plt\u001b[38;5;241m.\u001b[39mclf()\n\u001b[1;32m---> 10\u001b[0m \u001b[43mplt\u001b[49m\u001b[38;5;241;43m.\u001b[39;49m\u001b[43mpcolor\u001b[49m\u001b[43m(\u001b[49m\u001b[43mvort\u001b[49m\u001b[43m,\u001b[49m\u001b[43m \u001b[49m\u001b[43mcmap\u001b[49m\u001b[38;5;241;43m=\u001b[39;49m\u001b[43mcmap\u001b[49m\u001b[43m)\u001b[49m\n\u001b[0;32m     11\u001b[0m caxis_range \u001b[38;5;241m=\u001b[39m [\u001b[38;5;28mint\u001b[39m(\u001b[38;5;241m-\u001b[39mnp\u001b[38;5;241m.\u001b[39mmin(np\u001b[38;5;241m.\u001b[39mabs(np\u001b[38;5;241m.\u001b[39mmin(vort)))), \u001b[38;5;28mint\u001b[39m(np\u001b[38;5;241m.\u001b[39mmax(vort)), \u001b[38;5;28mint\u001b[39m(np\u001b[38;5;241m.\u001b[39mmin(np\u001b[38;5;241m.\u001b[39mabs(np\u001b[38;5;241m.\u001b[39mmin(vort)))), \u001b[38;5;28mint\u001b[39m(np\u001b[38;5;241m.\u001b[39mmax(vort))]\n\u001b[0;32m     12\u001b[0m plt\u001b[38;5;241m.\u001b[39mclim(caxis_range[\u001b[38;5;241m0\u001b[39m], caxis_range[\u001b[38;5;241m1\u001b[39m])\n",
      "File \u001b[1;32m~\\.conda\\envs\\DMD\\lib\\site-packages\\matplotlib\\pyplot.py:3449\u001b[0m, in \u001b[0;36mpcolor\u001b[1;34m(shading, alpha, norm, cmap, vmin, vmax, data, *args, **kwargs)\u001b[0m\n\u001b[0;32m   3437\u001b[0m \u001b[38;5;129m@_copy_docstring_and_deprecators\u001b[39m(Axes\u001b[38;5;241m.\u001b[39mpcolor)\n\u001b[0;32m   3438\u001b[0m \u001b[38;5;28;01mdef\u001b[39;00m \u001b[38;5;21mpcolor\u001b[39m(\n\u001b[0;32m   3439\u001b[0m     \u001b[38;5;241m*\u001b[39margs: ArrayLike,\n\u001b[1;32m   (...)\u001b[0m\n\u001b[0;32m   3447\u001b[0m     \u001b[38;5;241m*\u001b[39m\u001b[38;5;241m*\u001b[39mkwargs,\n\u001b[0;32m   3448\u001b[0m ) \u001b[38;5;241m-\u001b[39m\u001b[38;5;241m>\u001b[39m Collection:\n\u001b[1;32m-> 3449\u001b[0m     __ret \u001b[38;5;241m=\u001b[39m gca()\u001b[38;5;241m.\u001b[39mpcolor(\n\u001b[0;32m   3450\u001b[0m         \u001b[38;5;241m*\u001b[39margs,\n\u001b[0;32m   3451\u001b[0m         shading\u001b[38;5;241m=\u001b[39mshading,\n\u001b[0;32m   3452\u001b[0m         alpha\u001b[38;5;241m=\u001b[39malpha,\n\u001b[0;32m   3453\u001b[0m         norm\u001b[38;5;241m=\u001b[39mnorm,\n\u001b[0;32m   3454\u001b[0m         cmap\u001b[38;5;241m=\u001b[39mcmap,\n\u001b[0;32m   3455\u001b[0m         vmin\u001b[38;5;241m=\u001b[39mvmin,\n\u001b[0;32m   3456\u001b[0m         vmax\u001b[38;5;241m=\u001b[39mvmax,\n\u001b[0;32m   3457\u001b[0m         \u001b[38;5;241m*\u001b[39m\u001b[38;5;241m*\u001b[39m({\u001b[38;5;124m\"\u001b[39m\u001b[38;5;124mdata\u001b[39m\u001b[38;5;124m\"\u001b[39m: data} \u001b[38;5;28;01mif\u001b[39;00m data \u001b[38;5;129;01mis\u001b[39;00m \u001b[38;5;129;01mnot\u001b[39;00m \u001b[38;5;28;01mNone\u001b[39;00m \u001b[38;5;28;01melse\u001b[39;00m {}),\n\u001b[0;32m   3458\u001b[0m         \u001b[38;5;241m*\u001b[39m\u001b[38;5;241m*\u001b[39mkwargs,\n\u001b[0;32m   3459\u001b[0m     )\n\u001b[0;32m   3460\u001b[0m     sci(__ret)\n\u001b[0;32m   3461\u001b[0m     \u001b[38;5;28;01mreturn\u001b[39;00m __ret\n",
      "File \u001b[1;32m~\\.conda\\envs\\DMD\\lib\\site-packages\\matplotlib\\__init__.py:1492\u001b[0m, in \u001b[0;36m_preprocess_data.<locals>.inner\u001b[1;34m(ax, data, *args, **kwargs)\u001b[0m\n\u001b[0;32m   1489\u001b[0m \u001b[38;5;129m@functools\u001b[39m\u001b[38;5;241m.\u001b[39mwraps(func)\n\u001b[0;32m   1490\u001b[0m \u001b[38;5;28;01mdef\u001b[39;00m \u001b[38;5;21minner\u001b[39m(ax, \u001b[38;5;241m*\u001b[39margs, data\u001b[38;5;241m=\u001b[39m\u001b[38;5;28;01mNone\u001b[39;00m, \u001b[38;5;241m*\u001b[39m\u001b[38;5;241m*\u001b[39mkwargs):\n\u001b[0;32m   1491\u001b[0m     \u001b[38;5;28;01mif\u001b[39;00m data \u001b[38;5;129;01mis\u001b[39;00m \u001b[38;5;28;01mNone\u001b[39;00m:\n\u001b[1;32m-> 1492\u001b[0m         \u001b[38;5;28;01mreturn\u001b[39;00m func(ax, \u001b[38;5;241m*\u001b[39m\u001b[38;5;28mmap\u001b[39m(sanitize_sequence, args), \u001b[38;5;241m*\u001b[39m\u001b[38;5;241m*\u001b[39mkwargs)\n\u001b[0;32m   1494\u001b[0m     bound \u001b[38;5;241m=\u001b[39m new_sig\u001b[38;5;241m.\u001b[39mbind(ax, \u001b[38;5;241m*\u001b[39margs, \u001b[38;5;241m*\u001b[39m\u001b[38;5;241m*\u001b[39mkwargs)\n\u001b[0;32m   1495\u001b[0m     auto_label \u001b[38;5;241m=\u001b[39m (bound\u001b[38;5;241m.\u001b[39marguments\u001b[38;5;241m.\u001b[39mget(label_namer)\n\u001b[0;32m   1496\u001b[0m                   \u001b[38;5;129;01mor\u001b[39;00m bound\u001b[38;5;241m.\u001b[39mkwargs\u001b[38;5;241m.\u001b[39mget(label_namer))\n",
      "File \u001b[1;32m~\\.conda\\envs\\DMD\\lib\\site-packages\\matplotlib\\axes\\_axes.py:6070\u001b[0m, in \u001b[0;36mAxes.pcolor\u001b[1;34m(self, shading, alpha, norm, cmap, vmin, vmax, *args, **kwargs)\u001b[0m\n\u001b[0;32m   6066\u001b[0m coords \u001b[38;5;241m=\u001b[39m stack([X, Y], axis\u001b[38;5;241m=\u001b[39m\u001b[38;5;241m-\u001b[39m\u001b[38;5;241m1\u001b[39m)\n\u001b[0;32m   6068\u001b[0m collection \u001b[38;5;241m=\u001b[39m mcoll\u001b[38;5;241m.\u001b[39mPolyQuadMesh(\n\u001b[0;32m   6069\u001b[0m     coords, array\u001b[38;5;241m=\u001b[39mC, cmap\u001b[38;5;241m=\u001b[39mcmap, norm\u001b[38;5;241m=\u001b[39mnorm, alpha\u001b[38;5;241m=\u001b[39malpha, \u001b[38;5;241m*\u001b[39m\u001b[38;5;241m*\u001b[39mkwargs)\n\u001b[1;32m-> 6070\u001b[0m \u001b[43mcollection\u001b[49m\u001b[38;5;241;43m.\u001b[39;49m\u001b[43m_scale_norm\u001b[49m\u001b[43m(\u001b[49m\u001b[43mnorm\u001b[49m\u001b[43m,\u001b[49m\u001b[43m \u001b[49m\u001b[43mvmin\u001b[49m\u001b[43m,\u001b[49m\u001b[43m \u001b[49m\u001b[43mvmax\u001b[49m\u001b[43m)\u001b[49m\n\u001b[0;32m   6072\u001b[0m \u001b[38;5;66;03m# Transform from native to data coordinates?\u001b[39;00m\n\u001b[0;32m   6073\u001b[0m t \u001b[38;5;241m=\u001b[39m collection\u001b[38;5;241m.\u001b[39m_transform\n",
      "File \u001b[1;32m~\\.conda\\envs\\DMD\\lib\\site-packages\\matplotlib\\cm.py:441\u001b[0m, in \u001b[0;36mScalarMappable._scale_norm\u001b[1;34m(self, norm, vmin, vmax)\u001b[0m\n\u001b[0;32m    434\u001b[0m         \u001b[38;5;28;01mraise\u001b[39;00m \u001b[38;5;167;01mValueError\u001b[39;00m(\n\u001b[0;32m    435\u001b[0m             \u001b[38;5;124m\"\u001b[39m\u001b[38;5;124mPassing a Normalize instance simultaneously with \u001b[39m\u001b[38;5;124m\"\u001b[39m\n\u001b[0;32m    436\u001b[0m             \u001b[38;5;124m\"\u001b[39m\u001b[38;5;124mvmin/vmax is not supported.  Please pass vmin/vmax \u001b[39m\u001b[38;5;124m\"\u001b[39m\n\u001b[0;32m    437\u001b[0m             \u001b[38;5;124m\"\u001b[39m\u001b[38;5;124mdirectly to the norm when creating it.\u001b[39m\u001b[38;5;124m\"\u001b[39m)\n\u001b[0;32m    439\u001b[0m \u001b[38;5;66;03m# always resolve the autoscaling so we have concrete limits\u001b[39;00m\n\u001b[0;32m    440\u001b[0m \u001b[38;5;66;03m# rather than deferring to draw time.\u001b[39;00m\n\u001b[1;32m--> 441\u001b[0m \u001b[38;5;28;43mself\u001b[39;49m\u001b[38;5;241;43m.\u001b[39;49m\u001b[43mautoscale_None\u001b[49m\u001b[43m(\u001b[49m\u001b[43m)\u001b[49m\n",
      "File \u001b[1;32m~\\.conda\\envs\\DMD\\lib\\site-packages\\matplotlib\\cm.py:678\u001b[0m, in \u001b[0;36mScalarMappable.autoscale_None\u001b[1;34m(self)\u001b[0m\n\u001b[0;32m    675\u001b[0m     \u001b[38;5;28;01mraise\u001b[39;00m \u001b[38;5;167;01mTypeError\u001b[39;00m(\u001b[38;5;124m'\u001b[39m\u001b[38;5;124mYou must first set_array for mappable\u001b[39m\u001b[38;5;124m'\u001b[39m)\n\u001b[0;32m    676\u001b[0m \u001b[38;5;66;03m# If the norm's limits are updated self.changed() will be called\u001b[39;00m\n\u001b[0;32m    677\u001b[0m \u001b[38;5;66;03m# through the callbacks attached to the norm\u001b[39;00m\n\u001b[1;32m--> 678\u001b[0m \u001b[38;5;28;43mself\u001b[39;49m\u001b[38;5;241;43m.\u001b[39;49m\u001b[43mnorm\u001b[49m\u001b[38;5;241;43m.\u001b[39;49m\u001b[43mautoscale_None\u001b[49m\u001b[43m(\u001b[49m\u001b[38;5;28;43mself\u001b[39;49m\u001b[38;5;241;43m.\u001b[39;49m\u001b[43m_A\u001b[49m\u001b[43m)\u001b[49m\n",
      "File \u001b[1;32m~\\.conda\\envs\\DMD\\lib\\site-packages\\matplotlib\\colors.py:1408\u001b[0m, in \u001b[0;36mNormalize.autoscale_None\u001b[1;34m(self, A)\u001b[0m\n\u001b[0;32m   1405\u001b[0m         A \u001b[38;5;241m=\u001b[39m A\u001b[38;5;241m.\u001b[39mdata\n\u001b[0;32m   1407\u001b[0m \u001b[38;5;28;01mif\u001b[39;00m \u001b[38;5;28mself\u001b[39m\u001b[38;5;241m.\u001b[39mvmin \u001b[38;5;129;01mis\u001b[39;00m \u001b[38;5;28;01mNone\u001b[39;00m \u001b[38;5;129;01mand\u001b[39;00m A\u001b[38;5;241m.\u001b[39msize:\n\u001b[1;32m-> 1408\u001b[0m     \u001b[38;5;28mself\u001b[39m\u001b[38;5;241m.\u001b[39mvmin \u001b[38;5;241m=\u001b[39m \u001b[43mA\u001b[49m\u001b[38;5;241;43m.\u001b[39;49m\u001b[43mmin\u001b[49m\u001b[43m(\u001b[49m\u001b[43m)\u001b[49m\n\u001b[0;32m   1409\u001b[0m \u001b[38;5;28;01mif\u001b[39;00m \u001b[38;5;28mself\u001b[39m\u001b[38;5;241m.\u001b[39mvmax \u001b[38;5;129;01mis\u001b[39;00m \u001b[38;5;28;01mNone\u001b[39;00m \u001b[38;5;129;01mand\u001b[39;00m A\u001b[38;5;241m.\u001b[39msize:\n\u001b[0;32m   1410\u001b[0m     \u001b[38;5;28mself\u001b[39m\u001b[38;5;241m.\u001b[39mvmax \u001b[38;5;241m=\u001b[39m A\u001b[38;5;241m.\u001b[39mmax()\n",
      "File \u001b[1;32m~\\.conda\\envs\\DMD\\lib\\site-packages\\numpy\\core\\_methods.py:45\u001b[0m, in \u001b[0;36m_amin\u001b[1;34m(a, axis, out, keepdims, initial, where)\u001b[0m\n\u001b[0;32m     43\u001b[0m \u001b[38;5;28;01mdef\u001b[39;00m \u001b[38;5;21m_amin\u001b[39m(a, axis\u001b[38;5;241m=\u001b[39m\u001b[38;5;28;01mNone\u001b[39;00m, out\u001b[38;5;241m=\u001b[39m\u001b[38;5;28;01mNone\u001b[39;00m, keepdims\u001b[38;5;241m=\u001b[39m\u001b[38;5;28;01mFalse\u001b[39;00m,\n\u001b[0;32m     44\u001b[0m           initial\u001b[38;5;241m=\u001b[39m_NoValue, where\u001b[38;5;241m=\u001b[39m\u001b[38;5;28;01mTrue\u001b[39;00m):\n\u001b[1;32m---> 45\u001b[0m     \u001b[38;5;28;01mreturn\u001b[39;00m \u001b[43mumr_minimum\u001b[49m\u001b[43m(\u001b[49m\u001b[43ma\u001b[49m\u001b[43m,\u001b[49m\u001b[43m \u001b[49m\u001b[43maxis\u001b[49m\u001b[43m,\u001b[49m\u001b[43m \u001b[49m\u001b[38;5;28;43;01mNone\u001b[39;49;00m\u001b[43m,\u001b[49m\u001b[43m \u001b[49m\u001b[43mout\u001b[49m\u001b[43m,\u001b[49m\u001b[43m \u001b[49m\u001b[43mkeepdims\u001b[49m\u001b[43m,\u001b[49m\u001b[43m \u001b[49m\u001b[43minitial\u001b[49m\u001b[43m,\u001b[49m\u001b[43m \u001b[49m\u001b[43mwhere\u001b[49m\u001b[43m)\u001b[49m\n",
      "\u001b[1;31mKeyboardInterrupt\u001b[0m: "
     ]
    }
   ],
   "source": [
    "for i in range(100):\n",
    "    plot_durations(np.reshape(np.real(np.outer(Phi[:, i], Time_DMD[i, :]))[:, i], (ny, nx)).T)\n",
    "    plt.pause(0.5)"
   ]
  },
  {
   "cell_type": "code",
   "execution_count": null,
   "id": "1ded30ce-d7f3-437a-ac03-f575f7442fcb",
   "metadata": {},
   "outputs": [],
   "source": []
  }
 ],
 "metadata": {
  "kernelspec": {
   "display_name": "DMD",
   "language": "python",
   "name": "dmd"
  },
  "language_info": {
   "codemirror_mode": {
    "name": "ipython",
    "version": 3
   },
   "file_extension": ".py",
   "mimetype": "text/x-python",
   "name": "python",
   "nbconvert_exporter": "python",
   "pygments_lexer": "ipython3",
   "version": "3.9.18"
  }
 },
 "nbformat": 4,
 "nbformat_minor": 5
}
