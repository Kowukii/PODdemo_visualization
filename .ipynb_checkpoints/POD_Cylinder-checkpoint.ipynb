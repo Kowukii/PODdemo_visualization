{
 "cells": [
  {
   "cell_type": "code",
   "execution_count": 69,
   "id": "25a2b0f6-e19c-4c74-8f8c-6fa4bdb94d29",
   "metadata": {},
   "outputs": [],
   "source": [
    "import numpy as np\n",
    "import scipy.io as scio\n",
    "import scipy\n",
    "import matplotlib\n",
    "import matplotlib.pyplot as plt\n",
    "import matplotlib.colors as mcolors\n",
    "import matplotlib.cm as cm\n",
    "data_path = \"DATA/DATA/FLUIDS/CYLINDER_ALL.mat\"\n",
    "data = scio.loadmat(data_path)\n",
    "cc_path = \"CODE/CH02_FLUIDS/CCcool.mat\"\n",
    "cc = scio.loadmat(cc_path)\n",
    "cc = cc['CC']\n",
    "%matplotlib qt5"
   ]
  },
  {
   "cell_type": "code",
   "execution_count": 75,
   "id": "e53d4b7e-e97e-44f8-8435-f315c94fbc20",
   "metadata": {},
   "outputs": [
    {
     "data": {
      "image/png": "[encoded data removed]",
      "text/html": [
       "<div style=\"vertical-align: middle;\"><strong>from_list</strong> </div><div class=\"cmap\"><img alt=\"from_list colormap\" title=\"from_list\" style=\"border: 1px solid #555;\" src=\"data:image/png;base64,iVBORw0KGgoAAAANSUhEUgAAAgAAAABACAYAAABsv8+/AAAAGHRFWHRUaXRsZQBmcm9tX2xpc3QgY29sb3JtYXBDL89FAAAAHnRFWHREZXNjcmlwdGlvbgBmcm9tX2xpc3QgY29sb3JtYXABtCnOAAAAMHRFWHRBdXRob3IATWF0cGxvdGxpYiB2My44LjIsIGh0dHBzOi8vbWF0cGxvdGxpYi5vcmcPFd4SAAAAMnRFWHRTb2Z0d2FyZQBNYXRwbG90bGliIHYzLjguMiwgaHR0cHM6Ly9tYXRwbG90bGliLm9yZyGzQTUAAAFNSURBVHic7dbBDcIwFAVBQxfQRvovIVVAH6YDLIEUgnbm+uQvH/cy5pwDPvVY7M8v9z+/v23n3pf2/dz77f087ou9/p60668/AAAcTwAAQJAAAIAgAQAAQQIAAIIEAAAECQAACBIAABAkAAAgSAAAQJAAAIAgAQAAQQIAAIIEAAAECQAACBIAABAkAAAgSAAAQJAAAIAgAQAAQQIAAIIEAAAECQAACBIAABAkAAAgSAAAQJAAAIAgAQAAQQIAAIIEAAAECQAACBIAABAkAAAgSAAAQJAAAIAgAQAAQQIAAIIEAAAECQAACBIAABAkAAAgSAAAQJAAAIAgAQAAQQIAAIIEAAAECQAACBIAABAkAAAgSAAAQJAAAIAgAQAAQQIAAIIEAAAECQAACBIAABAkAAAgSAAAQJAAAIAgAQAAQQIAAIIEAAAECQAACHoBZYkWfYVQjrAAAAAASUVORK5CYII=\"></div><div style=\"vertical-align: middle; max-width: 514px; display: flex; justify-content: space-between;\"><div style=\"float: left;\"><div title=\"#00ffffff\" style=\"display: inline-block; width: 1em; height: 1em; margin: 0; vertical-align: middle; border: 1px solid #555; background-color: #00ffffff;\"></div> under</div><div style=\"margin: 0 auto; display: inline-block;\">bad <div title=\"#00000000\" style=\"display: inline-block; width: 1em; height: 1em; margin: 0; vertical-align: middle; border: 1px solid #555; background-color: #00000000;\"></div></div><div style=\"float: right;\">over <div title=\"#ffff00ff\" style=\"display: inline-block; width: 1em; height: 1em; margin: 0; vertical-align: middle; border: 1px solid #555; background-color: #ffff00ff;\"></div></div>"
      ],
      "text/plain": [
       "<matplotlib.colors.ListedColormap at 0x253de9c7970>"
      ]
     },
     "execution_count": 75,
     "metadata": {},
     "output_type": "execute_result"
    }
   ],
   "source": [
    "cmap = mcolors.ListedColormap(cc)\n",
    "colors_cool = cm.cool(cc)\n",
    "cmap\n"
   ]
  },
  {
   "cell_type": "code",
   "execution_count": 22,
   "id": "d9b5897b-a37b-428b-a3f8-f41651b6c83a",
   "metadata": {},
   "outputs": [
    {
     "data": {
      "text/plain": [
       "((89351, 151), (89351, 151), (89351, 151), 199, 449, 199, 449)"
      ]
     },
     "execution_count": 22,
     "metadata": {},
     "output_type": "execute_result"
    }
   ],
   "source": [
    "Uall = data['UALL']\n",
    "Vall = data['VALL']\n",
    "VortAll = data['VORTALL']\n",
    "m = data['m'][0][0]\n",
    "n = data['n'][0][0]\n",
    "nx = data['nx'][0][0]\n",
    "ny = data['ny'][0][0]\n",
    "Uall.shape, Vall.shape, VortAll.shape, m, n, nx, ny"
   ]
  },
  {
   "cell_type": "code",
   "execution_count": 23,
   "id": "ebb2e1b5-bb6c-45e6-a093-995ecefb29a7",
   "metadata": {},
   "outputs": [
    {
     "data": {
      "text/plain": [
       "(151, 89351)"
      ]
     },
     "execution_count": 23,
     "metadata": {},
     "output_type": "execute_result"
    }
   ],
   "source": [
    "X = VortAll.T\n",
    "X.shape"
   ]
  },
  {
   "cell_type": "code",
   "execution_count": 24,
   "id": "f4393e2a-582f-49e1-a5e6-ba477c3487b5",
   "metadata": {},
   "outputs": [
    {
     "data": {
      "text/plain": [
       "(302, 89351)"
      ]
     },
     "execution_count": 24,
     "metadata": {},
     "output_type": "execute_result"
    }
   ],
   "source": [
    "Y = np.vstack((X, X))\n",
    "Y.shape"
   ]
  },
  {
   "cell_type": "code",
   "execution_count": 126,
   "id": "1ca09bff-6485-46b0-b049-cfcf93e72e9f",
   "metadata": {},
   "outputs": [],
   "source": [
    "def POD_SVD(Utx):\n",
    "    # 输入Utx，其中时间离散长度N = Utx.shape[0], 空间离散长度m = Utx.shape[1]\n",
    "    # 输出U0x, 0阶模态，可以看作定常平均值\n",
    "    # 输出An， 时间变量，对应模态的幅值随时间的变化，可以用来做时间序列分析\n",
    "    # 输出PhiU， POD模态\n",
    "    # 输出Ds， 特征值Ds反映了每一个模态对应的能量，可以用来排序\n",
    "\n",
    "    N = Utx.shape[0] # 时间长度\n",
    "    m = Utx.shape[1] # 空间长度\n",
    "\n",
    "    # 除去稳态值\n",
    "\n",
    "    U0x = np.mean(Utx, 0)\n",
    "\n",
    "    Utx = Utx - U0x * np.ones((N, m))\n",
    "\n",
    "    U, S, PhiU = scipy.linalg.svd(Utx, full_matrices=False)\n",
    "\n",
    "    An = U @ np.diag(S)\n",
    "    Ds = S ** 2 / N\n",
    "    \n",
    "    return U0x, An, PhiU.T, Ds, S"
   ]
  },
  {
   "cell_type": "code",
   "execution_count": 127,
   "id": "c703ccdf-2ad6-4ff6-ba6a-0d8635fa4b26",
   "metadata": {},
   "outputs": [],
   "source": [
    "U0x, An, PhiU, Ds, S = POD_SVD(Y)"
   ]
  },
  {
   "cell_type": "code",
   "execution_count": 27,
   "id": "4121f409-4ad0-42f7-baca-018d06834fbd",
   "metadata": {},
   "outputs": [
    {
     "data": {
      "text/plain": [
       "(18.191, numpy.float64, 18, 16)"
      ]
     },
     "execution_count": 27,
     "metadata": {},
     "output_type": "execute_result"
    }
   ],
   "source": [
    "nx = int(nx)\n",
    "ny = int(ny)\n",
    "vort = np.reshape(VortAll[:, 0], (nx, ny))\n",
    "np.min(np.abs(np.min(vort))), type(np.min(np.abs(np.min(vort)))), int(np.min(np.abs(np.min(vort)))), int(np.max(vort))"
   ]
  },
  {
   "cell_type": "code",
   "execution_count": 28,
   "id": "ffb7061b-d9ea-48a3-b585-420112f7fbc6",
   "metadata": {},
   "outputs": [
    {
     "data": {
      "text/plain": [
       "<contextlib.ExitStack at 0x253ff0727c0>"
      ]
     },
     "execution_count": 28,
     "metadata": {},
     "output_type": "execute_result"
    }
   ],
   "source": [
    "is_ipython = 'qt5' in matplotlib.get_backend()\n",
    "if is_ipython:\n",
    "    from IPython import display\n",
    "\n",
    "plt.ion()"
   ]
  },
  {
   "cell_type": "code",
   "execution_count": 32,
   "id": "98da5696-7a4b-4bee-bbbb-19a5a915755e",
   "metadata": {},
   "outputs": [
    {
     "data": {
      "text/plain": [
       "<matplotlib.collections.PolyQuadMesh at 0x253ff09ee50>"
      ]
     },
     "execution_count": 32,
     "metadata": {},
     "output_type": "execute_result"
    }
   ],
   "source": [
    "plt.pcolor(np.reshape(VortAll[:, 0], (ny, nx)).T, cmap=cmap)"
   ]
  },
  {
   "cell_type": "code",
   "execution_count": 72,
   "id": "0b328a0f-914e-4eff-9a94-9025593a19f9",
   "metadata": {
    "scrolled": true
   },
   "outputs": [
    {
     "ename": "KeyboardInterrupt",
     "evalue": "",
     "output_type": "error",
     "traceback": [
      "\u001b[1;31m---------------------------------------------------------------------------\u001b[0m",
      "\u001b[1;31mKeyboardInterrupt\u001b[0m                         Traceback (most recent call last)",
      "Cell \u001b[1;32mIn[72], line 30\u001b[0m\n\u001b[0;32m     28\u001b[0m         display\u001b[38;5;241m.\u001b[39mdisplay(plt\u001b[38;5;241m.\u001b[39mgcf())\n\u001b[0;32m     29\u001b[0m \u001b[38;5;28;01mfor\u001b[39;00m i \u001b[38;5;129;01min\u001b[39;00m \u001b[38;5;28mrange\u001b[39m(\u001b[38;5;241m100\u001b[39m):\n\u001b[1;32m---> 30\u001b[0m     \u001b[43mplot_durations\u001b[49m\u001b[43m(\u001b[49m\u001b[43mnp\u001b[49m\u001b[38;5;241;43m.\u001b[39;49m\u001b[43mreshape\u001b[49m\u001b[43m(\u001b[49m\u001b[43mVortAll\u001b[49m\u001b[43m[\u001b[49m\u001b[43m:\u001b[49m\u001b[43m,\u001b[49m\u001b[43m \u001b[49m\u001b[43mi\u001b[49m\u001b[43m]\u001b[49m\u001b[43m,\u001b[49m\u001b[43m \u001b[49m\u001b[43m(\u001b[49m\u001b[43mny\u001b[49m\u001b[43m,\u001b[49m\u001b[43m \u001b[49m\u001b[43mnx\u001b[49m\u001b[43m)\u001b[49m\u001b[43m)\u001b[49m\u001b[38;5;241;43m.\u001b[39;49m\u001b[43mT\u001b[49m\u001b[43m)\u001b[49m\n",
      "Cell \u001b[1;32mIn[72], line 5\u001b[0m, in \u001b[0;36mplot_durations\u001b[1;34m(vort)\u001b[0m\n\u001b[0;32m      2\u001b[0m plt\u001b[38;5;241m.\u001b[39mcolormap \u001b[38;5;241m=\u001b[39m cmap\n\u001b[0;32m      3\u001b[0m plt\u001b[38;5;241m.\u001b[39mclf()\n\u001b[1;32m----> 5\u001b[0m \u001b[43mplt\u001b[49m\u001b[38;5;241;43m.\u001b[39;49m\u001b[43mpcolor\u001b[49m\u001b[43m(\u001b[49m\u001b[43mvort\u001b[49m\u001b[43m,\u001b[49m\u001b[43m \u001b[49m\u001b[43mcmap\u001b[49m\u001b[38;5;241;43m=\u001b[39;49m\u001b[43mcmap\u001b[49m\u001b[43m)\u001b[49m\n\u001b[0;32m      6\u001b[0m caxis_range \u001b[38;5;241m=\u001b[39m [\u001b[38;5;28mint\u001b[39m(\u001b[38;5;241m-\u001b[39mnp\u001b[38;5;241m.\u001b[39mmin(np\u001b[38;5;241m.\u001b[39mabs(np\u001b[38;5;241m.\u001b[39mmin(vort)))), \u001b[38;5;28mint\u001b[39m(np\u001b[38;5;241m.\u001b[39mmax(vort)), \u001b[38;5;28mint\u001b[39m(np\u001b[38;5;241m.\u001b[39mmin(np\u001b[38;5;241m.\u001b[39mabs(np\u001b[38;5;241m.\u001b[39mmin(vort)))), \u001b[38;5;28mint\u001b[39m(np\u001b[38;5;241m.\u001b[39mmax(vort))]\n\u001b[0;32m      7\u001b[0m plt\u001b[38;5;241m.\u001b[39mclim(caxis_range[\u001b[38;5;241m0\u001b[39m], caxis_range[\u001b[38;5;241m1\u001b[39m])\n",
      "File \u001b[1;32m~\\.conda\\envs\\DMD\\lib\\site-packages\\matplotlib\\pyplot.py:3449\u001b[0m, in \u001b[0;36mpcolor\u001b[1;34m(shading, alpha, norm, cmap, vmin, vmax, data, *args, **kwargs)\u001b[0m\n\u001b[0;32m   3437\u001b[0m \u001b[38;5;129m@_copy_docstring_and_deprecators\u001b[39m(Axes\u001b[38;5;241m.\u001b[39mpcolor)\n\u001b[0;32m   3438\u001b[0m \u001b[38;5;28;01mdef\u001b[39;00m \u001b[38;5;21mpcolor\u001b[39m(\n\u001b[0;32m   3439\u001b[0m     \u001b[38;5;241m*\u001b[39margs: ArrayLike,\n\u001b[1;32m   (...)\u001b[0m\n\u001b[0;32m   3447\u001b[0m     \u001b[38;5;241m*\u001b[39m\u001b[38;5;241m*\u001b[39mkwargs,\n\u001b[0;32m   3448\u001b[0m ) \u001b[38;5;241m-\u001b[39m\u001b[38;5;241m>\u001b[39m Collection:\n\u001b[1;32m-> 3449\u001b[0m     __ret \u001b[38;5;241m=\u001b[39m gca()\u001b[38;5;241m.\u001b[39mpcolor(\n\u001b[0;32m   3450\u001b[0m         \u001b[38;5;241m*\u001b[39margs,\n\u001b[0;32m   3451\u001b[0m         shading\u001b[38;5;241m=\u001b[39mshading,\n\u001b[0;32m   3452\u001b[0m         alpha\u001b[38;5;241m=\u001b[39malpha,\n\u001b[0;32m   3453\u001b[0m         norm\u001b[38;5;241m=\u001b[39mnorm,\n\u001b[0;32m   3454\u001b[0m         cmap\u001b[38;5;241m=\u001b[39mcmap,\n\u001b[0;32m   3455\u001b[0m         vmin\u001b[38;5;241m=\u001b[39mvmin,\n\u001b[0;32m   3456\u001b[0m         vmax\u001b[38;5;241m=\u001b[39mvmax,\n\u001b[0;32m   3457\u001b[0m         \u001b[38;5;241m*\u001b[39m\u001b[38;5;241m*\u001b[39m({\u001b[38;5;124m\"\u001b[39m\u001b[38;5;124mdata\u001b[39m\u001b[38;5;124m\"\u001b[39m: data} \u001b[38;5;28;01mif\u001b[39;00m data \u001b[38;5;129;01mis\u001b[39;00m \u001b[38;5;129;01mnot\u001b[39;00m \u001b[38;5;28;01mNone\u001b[39;00m \u001b[38;5;28;01melse\u001b[39;00m {}),\n\u001b[0;32m   3458\u001b[0m         \u001b[38;5;241m*\u001b[39m\u001b[38;5;241m*\u001b[39mkwargs,\n\u001b[0;32m   3459\u001b[0m     )\n\u001b[0;32m   3460\u001b[0m     sci(__ret)\n\u001b[0;32m   3461\u001b[0m     \u001b[38;5;28;01mreturn\u001b[39;00m __ret\n",
      "File \u001b[1;32m~\\.conda\\envs\\DMD\\lib\\site-packages\\matplotlib\\__init__.py:1492\u001b[0m, in \u001b[0;36m_preprocess_data.<locals>.inner\u001b[1;34m(ax, data, *args, **kwargs)\u001b[0m\n\u001b[0;32m   1489\u001b[0m \u001b[38;5;129m@functools\u001b[39m\u001b[38;5;241m.\u001b[39mwraps(func)\n\u001b[0;32m   1490\u001b[0m \u001b[38;5;28;01mdef\u001b[39;00m \u001b[38;5;21minner\u001b[39m(ax, \u001b[38;5;241m*\u001b[39margs, data\u001b[38;5;241m=\u001b[39m\u001b[38;5;28;01mNone\u001b[39;00m, \u001b[38;5;241m*\u001b[39m\u001b[38;5;241m*\u001b[39mkwargs):\n\u001b[0;32m   1491\u001b[0m     \u001b[38;5;28;01mif\u001b[39;00m data \u001b[38;5;129;01mis\u001b[39;00m \u001b[38;5;28;01mNone\u001b[39;00m:\n\u001b[1;32m-> 1492\u001b[0m         \u001b[38;5;28;01mreturn\u001b[39;00m func(ax, \u001b[38;5;241m*\u001b[39m\u001b[38;5;28mmap\u001b[39m(sanitize_sequence, args), \u001b[38;5;241m*\u001b[39m\u001b[38;5;241m*\u001b[39mkwargs)\n\u001b[0;32m   1494\u001b[0m     bound \u001b[38;5;241m=\u001b[39m new_sig\u001b[38;5;241m.\u001b[39mbind(ax, \u001b[38;5;241m*\u001b[39margs, \u001b[38;5;241m*\u001b[39m\u001b[38;5;241m*\u001b[39mkwargs)\n\u001b[0;32m   1495\u001b[0m     auto_label \u001b[38;5;241m=\u001b[39m (bound\u001b[38;5;241m.\u001b[39marguments\u001b[38;5;241m.\u001b[39mget(label_namer)\n\u001b[0;32m   1496\u001b[0m                   \u001b[38;5;129;01mor\u001b[39;00m bound\u001b[38;5;241m.\u001b[39mkwargs\u001b[38;5;241m.\u001b[39mget(label_namer))\n",
      "File \u001b[1;32m~\\.conda\\envs\\DMD\\lib\\site-packages\\matplotlib\\axes\\_axes.py:6068\u001b[0m, in \u001b[0;36mAxes.pcolor\u001b[1;34m(self, shading, alpha, norm, cmap, vmin, vmax, *args, **kwargs)\u001b[0m\n\u001b[0;32m   6065\u001b[0m     y \u001b[38;5;241m=\u001b[39m Y\n\u001b[0;32m   6066\u001b[0m coords \u001b[38;5;241m=\u001b[39m stack([X, Y], axis\u001b[38;5;241m=\u001b[39m\u001b[38;5;241m-\u001b[39m\u001b[38;5;241m1\u001b[39m)\n\u001b[1;32m-> 6068\u001b[0m collection \u001b[38;5;241m=\u001b[39m mcoll\u001b[38;5;241m.\u001b[39mPolyQuadMesh(\n\u001b[0;32m   6069\u001b[0m     coords, array\u001b[38;5;241m=\u001b[39mC, cmap\u001b[38;5;241m=\u001b[39mcmap, norm\u001b[38;5;241m=\u001b[39mnorm, alpha\u001b[38;5;241m=\u001b[39malpha, \u001b[38;5;241m*\u001b[39m\u001b[38;5;241m*\u001b[39mkwargs)\n\u001b[0;32m   6070\u001b[0m collection\u001b[38;5;241m.\u001b[39m_scale_norm(norm, vmin, vmax)\n\u001b[0;32m   6072\u001b[0m \u001b[38;5;66;03m# Transform from native to data coordinates?\u001b[39;00m\n",
      "File \u001b[1;32m~\\.conda\\envs\\DMD\\lib\\site-packages\\matplotlib\\collections.py:2284\u001b[0m, in \u001b[0;36mPolyQuadMesh.__init__\u001b[1;34m(self, coordinates, **kwargs)\u001b[0m\n\u001b[0;32m   2280\u001b[0m \u001b[38;5;28mself\u001b[39m\u001b[38;5;241m.\u001b[39m_deprecated_compression \u001b[38;5;241m=\u001b[39m np\u001b[38;5;241m.\u001b[39many(\u001b[38;5;28mself\u001b[39m\u001b[38;5;241m.\u001b[39m_original_mask)\n\u001b[0;32m   2281\u001b[0m \u001b[38;5;66;03m# Setting the verts updates the paths of the PolyCollection\u001b[39;00m\n\u001b[0;32m   2282\u001b[0m \u001b[38;5;66;03m# This is called after the initializers to make sure the kwargs\u001b[39;00m\n\u001b[0;32m   2283\u001b[0m \u001b[38;5;66;03m# have all been processed and available for the masking calculations\u001b[39;00m\n\u001b[1;32m-> 2284\u001b[0m \u001b[38;5;28;43mself\u001b[39;49m\u001b[38;5;241;43m.\u001b[39;49m\u001b[43m_set_unmasked_verts\u001b[49m\u001b[43m(\u001b[49m\u001b[43m)\u001b[49m\n",
      "File \u001b[1;32m~\\.conda\\envs\\DMD\\lib\\site-packages\\matplotlib\\collections.py:2329\u001b[0m, in \u001b[0;36mPolyQuadMesh._set_unmasked_verts\u001b[1;34m(self)\u001b[0m\n\u001b[0;32m   2327\u001b[0m xy \u001b[38;5;241m=\u001b[39m np\u001b[38;5;241m.\u001b[39mma\u001b[38;5;241m.\u001b[39mstack([X1, Y1, X2, Y2, X3, Y3, X4, Y4, X1, Y1], axis\u001b[38;5;241m=\u001b[39m\u001b[38;5;241m-\u001b[39m\u001b[38;5;241m1\u001b[39m)\n\u001b[0;32m   2328\u001b[0m verts \u001b[38;5;241m=\u001b[39m xy\u001b[38;5;241m.\u001b[39mreshape((npoly, \u001b[38;5;241m5\u001b[39m, \u001b[38;5;241m2\u001b[39m))\n\u001b[1;32m-> 2329\u001b[0m \u001b[38;5;28;43mself\u001b[39;49m\u001b[38;5;241;43m.\u001b[39;49m\u001b[43mset_verts\u001b[49m\u001b[43m(\u001b[49m\u001b[43mverts\u001b[49m\u001b[43m)\u001b[49m\n",
      "File \u001b[1;32m~\\.conda\\envs\\DMD\\lib\\site-packages\\matplotlib\\collections.py:1235\u001b[0m, in \u001b[0;36mPolyCollection.set_verts\u001b[1;34m(self, verts, closed)\u001b[0m\n\u001b[0;32m   1233\u001b[0m     codes[\u001b[38;5;241m0\u001b[39m] \u001b[38;5;241m=\u001b[39m mpath\u001b[38;5;241m.\u001b[39mPath\u001b[38;5;241m.\u001b[39mMOVETO\n\u001b[0;32m   1234\u001b[0m     codes[\u001b[38;5;241m-\u001b[39m\u001b[38;5;241m1\u001b[39m] \u001b[38;5;241m=\u001b[39m mpath\u001b[38;5;241m.\u001b[39mPath\u001b[38;5;241m.\u001b[39mCLOSEPOLY\n\u001b[1;32m-> 1235\u001b[0m     \u001b[38;5;28mself\u001b[39m\u001b[38;5;241m.\u001b[39m_paths \u001b[38;5;241m=\u001b[39m [mpath\u001b[38;5;241m.\u001b[39mPath(xy, codes) \u001b[38;5;28;01mfor\u001b[39;00m xy \u001b[38;5;129;01min\u001b[39;00m verts_pad]\n\u001b[0;32m   1236\u001b[0m     \u001b[38;5;28;01mreturn\u001b[39;00m\n\u001b[0;32m   1238\u001b[0m \u001b[38;5;28mself\u001b[39m\u001b[38;5;241m.\u001b[39m_paths \u001b[38;5;241m=\u001b[39m []\n",
      "File \u001b[1;32m~\\.conda\\envs\\DMD\\lib\\site-packages\\matplotlib\\collections.py:1235\u001b[0m, in \u001b[0;36m<listcomp>\u001b[1;34m(.0)\u001b[0m\n\u001b[0;32m   1233\u001b[0m     codes[\u001b[38;5;241m0\u001b[39m] \u001b[38;5;241m=\u001b[39m mpath\u001b[38;5;241m.\u001b[39mPath\u001b[38;5;241m.\u001b[39mMOVETO\n\u001b[0;32m   1234\u001b[0m     codes[\u001b[38;5;241m-\u001b[39m\u001b[38;5;241m1\u001b[39m] \u001b[38;5;241m=\u001b[39m mpath\u001b[38;5;241m.\u001b[39mPath\u001b[38;5;241m.\u001b[39mCLOSEPOLY\n\u001b[1;32m-> 1235\u001b[0m     \u001b[38;5;28mself\u001b[39m\u001b[38;5;241m.\u001b[39m_paths \u001b[38;5;241m=\u001b[39m [\u001b[43mmpath\u001b[49m\u001b[38;5;241;43m.\u001b[39;49m\u001b[43mPath\u001b[49m\u001b[43m(\u001b[49m\u001b[43mxy\u001b[49m\u001b[43m,\u001b[49m\u001b[43m \u001b[49m\u001b[43mcodes\u001b[49m\u001b[43m)\u001b[49m \u001b[38;5;28;01mfor\u001b[39;00m xy \u001b[38;5;129;01min\u001b[39;00m verts_pad]\n\u001b[0;32m   1236\u001b[0m     \u001b[38;5;28;01mreturn\u001b[39;00m\n\u001b[0;32m   1238\u001b[0m \u001b[38;5;28mself\u001b[39m\u001b[38;5;241m.\u001b[39m_paths \u001b[38;5;241m=\u001b[39m []\n",
      "File \u001b[1;32m~\\.conda\\envs\\DMD\\lib\\site-packages\\matplotlib\\path.py:152\u001b[0m, in \u001b[0;36mPath.__init__\u001b[1;34m(self, vertices, codes, _interpolation_steps, closed, readonly)\u001b[0m\n\u001b[0;32m    150\u001b[0m \u001b[38;5;28mself\u001b[39m\u001b[38;5;241m.\u001b[39m_codes \u001b[38;5;241m=\u001b[39m codes\n\u001b[0;32m    151\u001b[0m \u001b[38;5;28mself\u001b[39m\u001b[38;5;241m.\u001b[39m_interpolation_steps \u001b[38;5;241m=\u001b[39m _interpolation_steps\n\u001b[1;32m--> 152\u001b[0m \u001b[38;5;28;43mself\u001b[39;49m\u001b[38;5;241;43m.\u001b[39;49m\u001b[43m_update_values\u001b[49m\u001b[43m(\u001b[49m\u001b[43m)\u001b[49m\n\u001b[0;32m    154\u001b[0m \u001b[38;5;28;01mif\u001b[39;00m readonly:\n\u001b[0;32m    155\u001b[0m     \u001b[38;5;28mself\u001b[39m\u001b[38;5;241m.\u001b[39m_vertices\u001b[38;5;241m.\u001b[39mflags\u001b[38;5;241m.\u001b[39mwriteable \u001b[38;5;241m=\u001b[39m \u001b[38;5;28;01mFalse\u001b[39;00m\n",
      "File \u001b[1;32m~\\.conda\\envs\\DMD\\lib\\site-packages\\matplotlib\\path.py:206\u001b[0m, in \u001b[0;36mPath._update_values\u001b[1;34m(self)\u001b[0m\n\u001b[0;32m    202\u001b[0m \u001b[38;5;28;01mdef\u001b[39;00m \u001b[38;5;21m_update_values\u001b[39m(\u001b[38;5;28mself\u001b[39m):\n\u001b[0;32m    203\u001b[0m     \u001b[38;5;28mself\u001b[39m\u001b[38;5;241m.\u001b[39m_simplify_threshold \u001b[38;5;241m=\u001b[39m mpl\u001b[38;5;241m.\u001b[39mrcParams[\u001b[38;5;124m'\u001b[39m\u001b[38;5;124mpath.simplify_threshold\u001b[39m\u001b[38;5;124m'\u001b[39m]\n\u001b[0;32m    204\u001b[0m     \u001b[38;5;28mself\u001b[39m\u001b[38;5;241m.\u001b[39m_should_simplify \u001b[38;5;241m=\u001b[39m (\n\u001b[0;32m    205\u001b[0m         \u001b[38;5;28mself\u001b[39m\u001b[38;5;241m.\u001b[39m_simplify_threshold \u001b[38;5;241m>\u001b[39m \u001b[38;5;241m0\u001b[39m \u001b[38;5;129;01mand\u001b[39;00m\n\u001b[1;32m--> 206\u001b[0m         \u001b[43mmpl\u001b[49m\u001b[38;5;241;43m.\u001b[39;49m\u001b[43mrcParams\u001b[49m[\u001b[38;5;124m'\u001b[39m\u001b[38;5;124mpath.simplify\u001b[39m\u001b[38;5;124m'\u001b[39m] \u001b[38;5;129;01mand\u001b[39;00m\n\u001b[0;32m    207\u001b[0m         \u001b[38;5;28mlen\u001b[39m(\u001b[38;5;28mself\u001b[39m\u001b[38;5;241m.\u001b[39m_vertices) \u001b[38;5;241m>\u001b[39m\u001b[38;5;241m=\u001b[39m \u001b[38;5;241m128\u001b[39m \u001b[38;5;129;01mand\u001b[39;00m\n\u001b[0;32m    208\u001b[0m         (\u001b[38;5;28mself\u001b[39m\u001b[38;5;241m.\u001b[39m_codes \u001b[38;5;129;01mis\u001b[39;00m \u001b[38;5;28;01mNone\u001b[39;00m \u001b[38;5;129;01mor\u001b[39;00m np\u001b[38;5;241m.\u001b[39mall(\u001b[38;5;28mself\u001b[39m\u001b[38;5;241m.\u001b[39m_codes \u001b[38;5;241m<\u001b[39m\u001b[38;5;241m=\u001b[39m Path\u001b[38;5;241m.\u001b[39mLINETO))\n\u001b[0;32m    209\u001b[0m     )\n",
      "\u001b[1;31mKeyboardInterrupt\u001b[0m: "
     ]
    }
   ],
   "source": [
    "def plot_durations(vort):\n",
    "    plt.colormap = cmap\n",
    "    plt.clf()\n",
    "    \n",
    "    plt.pcolor(vort, cmap=cmap)\n",
    "    caxis_range = [int(-np.min(np.abs(np.min(vort)))), int(np.max(vort)), int(np.min(np.abs(np.min(vort)))), int(np.max(vort))]\n",
    "    plt.clim(caxis_range[0], caxis_range[1])\n",
    "    # 重置坐标轴\n",
    "    plt.xticks([1, 50, 100, 150, 200, 250, 300, 350, 400, 449], ['-1', '0', '1', '2', '3', '4', '5', '6', '7', '8'])\n",
    "    plt.yticks([1, 50, 100, 150, 199], ['2', '1', '0', '-1', '-2'])\n",
    "    # plt.gcf().set_position([500, 500, 900, 390])\n",
    "    plt.gca().set_zorder(10)\n",
    "    plt.ylabel('y', fontname='Arial', fontsize=14)\n",
    "    plt.xlabel('x', fontname='Arial', fontsize=14)\n",
    "    plt.axis('equal')\n",
    "    plt.contour(vort, np.linspace(-np.max(vort), -np.max(vort)/35, 6), colors='k', linestyles='solid', linewidths=1)\n",
    "    plt.contour(vort, np.linspace(np.max(vort)/35, np.max(vort), 6), colors='k', linestyles='--', linewidths=1)\n",
    "    theta = np.linspace(0, 2*np.pi, 100)\n",
    "    x = 49 + 25 * np.sin(theta)\n",
    "    y = 99 + 25 * np.cos(theta)\n",
    "    # 绘制填充的圆柱体\n",
    "    plt.fill(x, y, [.3, .3, .3])\n",
    "    # 绘制圆柱体的边界\n",
    "    plt.plot(x, y, 'k', linewidth=1.2)\n",
    "    plt.pause(0.001)\n",
    "    if is_ipython:\n",
    "        display.clear_output(wait=True)\n",
    "        display.display(plt.gcf())\n",
    "for i in range(100):\n",
    "    plot_durations(np.reshape(VortAll[:, i], (ny, nx)).T)"
   ]
  },
  {
   "cell_type": "code",
   "execution_count": null,
   "id": "cef0c71f-07a3-4a1d-aacd-b8504c938996",
   "metadata": {},
   "outputs": [],
   "source": [
    "fig = plt.figure(1)\n",
    "# 图1 输出特征根分布\n",
    "plt.scatter(np.sum(np.real(Dd[::-1]), axis=1),\n",
    "            np.sum(np.imag(Dd[::-1]), axis=1),\n",
    "            s=30,\n",
    "            c=-np.log(Energy[::-1]),\n",
    "            cmap='viridis',\n",
    "            alpha=0.7)\n",
    "plt.colorbar()\n",
    "plt.axis('equal')\n",
    "plt.show()"
   ]
  },
  {
   "cell_type": "code",
   "execution_count": 73,
   "id": "d8754001-ce19-4620-91ea-63098366ad28",
   "metadata": {},
   "outputs": [],
   "source": [
    "plot_durations(np.reshape(U0x, (ny, nx)).T)\n",
    "# 平均流场信息"
   ]
  },
  {
   "cell_type": "code",
   "execution_count": 74,
   "id": "1b7d5782-7f7a-430b-b4cd-acbc77db05e9",
   "metadata": {},
   "outputs": [],
   "source": [
    "for i in range(10):\n",
    "    plot_durations(np.reshape(An[0, i] * PhiU[:, i], (ny, nx)).T)\n",
    "    plt.pause(0.001)\n",
    "# 前10模态分解结果"
   ]
  },
  {
   "cell_type": "code",
   "execution_count": 85,
   "id": "908533e9-88d6-4c61-b526-d3f50cdf92ea",
   "metadata": {},
   "outputs": [
    {
     "data": {
      "text/plain": [
       "(20, 302)"
      ]
     },
     "execution_count": 85,
     "metadata": {},
     "output_type": "execute_result"
    }
   ],
   "source": [
    "(Ds[:20] / np.sum(Ds)).shape"
   ]
  },
  {
   "cell_type": "code",
   "execution_count": 89,
   "id": "a83ebad8-a5cf-4b78-846a-0de0c85e4d42",
   "metadata": {},
   "outputs": [
    {
     "data": {
      "text/plain": [
       "(302,)"
      ]
     },
     "execution_count": 89,
     "metadata": {},
     "output_type": "execute_result"
    }
   ],
   "source": [
    "Ds.shape"
   ]
  },
  {
   "cell_type": "code",
   "execution_count": 92,
   "id": "9f1ec16c-0ada-4f95-b4a5-ea7f0f26bce6",
   "metadata": {
    "scrolled": true
   },
   "outputs": [],
   "source": [
    "# 第一个图形\n",
    "plt.figure(1)\n",
    "plt.plot(range(1, 21), Ds[:20] / np.sum(Ds), 'o--')\n",
    "plt.ylabel('Energy order', fontname='Arial', fontsize=14)\n",
    "plt.xlabel('k', fontname='Arial', fontsize=14)\n",
    "plt.grid(True)\n",
    "name1 = 'Energy order.png'\n",
    "plt.savefig(name1, dpi=600)\n",
    "\n",
    "# 第二个图形\n",
    "plt.figure(2)\n",
    "plt.semilogy(range(1, 21), np.cumsum(Ds[:20]) / np.sum(Ds), 'o--')\n",
    "plt.ylabel('Total Energy', fontname='Arial', fontsize=14)\n",
    "plt.xlabel('k', fontname='Arial', fontsize=14)\n",
    "plt.grid(True)\n",
    "name2 = 'Energy cum.png'\n",
    "plt.savefig(name2, dpi=600)\n",
    "\n",
    "plt.show()\n",
    "# 前20阶模态能量大小"
   ]
  },
  {
   "cell_type": "code",
   "execution_count": 118,
   "id": "5dd000c6-fe00-4b16-a021-78ef45b946ac",
   "metadata": {},
   "outputs": [
    {
     "data": {
      "text/plain": [
       "(89351, 302)"
      ]
     },
     "execution_count": 118,
     "metadata": {},
     "output_type": "execute_result"
    }
   ],
   "source": [
    "sigma = np.zeros(PhiU.shape)\n",
    "sigma.shape"
   ]
  },
  {
   "cell_type": "code",
   "execution_count": 125,
   "id": "80899254-ff3f-4f93-8432-03f275cc7e8b",
   "metadata": {},
   "outputs": [
    {
     "ename": "KeyboardInterrupt",
     "evalue": "",
     "output_type": "error",
     "traceback": [
      "\u001b[1;31m---------------------------------------------------------------------------\u001b[0m",
      "\u001b[1;31mKeyboardInterrupt\u001b[0m                         Traceback (most recent call last)",
      "Cell \u001b[1;32mIn[125], line 6\u001b[0m\n\u001b[0;32m      4\u001b[0m \u001b[38;5;28;01mfor\u001b[39;00m j \u001b[38;5;129;01min\u001b[39;00m \u001b[38;5;28mrange\u001b[39m(\u001b[38;5;241m100\u001b[39m):\n\u001b[0;32m      5\u001b[0m     plt\u001b[38;5;241m.\u001b[39mclf()\n\u001b[1;32m----> 6\u001b[0m     \u001b[43mplot_durations\u001b[49m\u001b[43m(\u001b[49m\u001b[43mnp\u001b[49m\u001b[38;5;241;43m.\u001b[39;49m\u001b[43mreshape\u001b[49m\u001b[43m(\u001b[49m\u001b[43msigma\u001b[49m\u001b[43m[\u001b[49m\u001b[43m:\u001b[49m\u001b[43m,\u001b[49m\u001b[43m \u001b[49m\u001b[43mj\u001b[49m\u001b[43m]\u001b[49m\u001b[38;5;241;43m.\u001b[39;49m\u001b[43mT\u001b[49m\u001b[43m \u001b[49m\u001b[38;5;241;43m+\u001b[39;49m\u001b[43m \u001b[49m\u001b[43mU0x\u001b[49m\u001b[43m,\u001b[49m\u001b[43m \u001b[49m\u001b[43m(\u001b[49m\u001b[43mny\u001b[49m\u001b[43m,\u001b[49m\u001b[43m \u001b[49m\u001b[43mnx\u001b[49m\u001b[43m)\u001b[49m\u001b[43m)\u001b[49m\u001b[38;5;241;43m.\u001b[39;49m\u001b[43mT\u001b[49m\u001b[43m)\u001b[49m\n\u001b[0;32m      7\u001b[0m     plt\u001b[38;5;241m.\u001b[39mpause(\u001b[38;5;241m0.01\u001b[39m)   \n\u001b[0;32m      8\u001b[0m \u001b[38;5;66;03m# 前6阶还原\u001b[39;00m\n",
      "Cell \u001b[1;32mIn[72], line 25\u001b[0m, in \u001b[0;36mplot_durations\u001b[1;34m(vort)\u001b[0m\n\u001b[0;32m     23\u001b[0m \u001b[38;5;66;03m# 绘制圆柱体的边界\u001b[39;00m\n\u001b[0;32m     24\u001b[0m plt\u001b[38;5;241m.\u001b[39mplot(x, y, \u001b[38;5;124m'\u001b[39m\u001b[38;5;124mk\u001b[39m\u001b[38;5;124m'\u001b[39m, linewidth\u001b[38;5;241m=\u001b[39m\u001b[38;5;241m1.2\u001b[39m)\n\u001b[1;32m---> 25\u001b[0m \u001b[43mplt\u001b[49m\u001b[38;5;241;43m.\u001b[39;49m\u001b[43mpause\u001b[49m\u001b[43m(\u001b[49m\u001b[38;5;241;43m0.001\u001b[39;49m\u001b[43m)\u001b[49m\n\u001b[0;32m     26\u001b[0m \u001b[38;5;28;01mif\u001b[39;00m is_ipython:\n\u001b[0;32m     27\u001b[0m     display\u001b[38;5;241m.\u001b[39mclear_output(wait\u001b[38;5;241m=\u001b[39m\u001b[38;5;28;01mTrue\u001b[39;00m)\n",
      "File \u001b[1;32m~\\.conda\\envs\\DMD\\lib\\site-packages\\matplotlib\\pyplot.py:663\u001b[0m, in \u001b[0;36mpause\u001b[1;34m(interval)\u001b[0m\n\u001b[0;32m    661\u001b[0m         canvas\u001b[38;5;241m.\u001b[39mdraw_idle()\n\u001b[0;32m    662\u001b[0m     show(block\u001b[38;5;241m=\u001b[39m\u001b[38;5;28;01mFalse\u001b[39;00m)\n\u001b[1;32m--> 663\u001b[0m     \u001b[43mcanvas\u001b[49m\u001b[38;5;241;43m.\u001b[39;49m\u001b[43mstart_event_loop\u001b[49m\u001b[43m(\u001b[49m\u001b[43minterval\u001b[49m\u001b[43m)\u001b[49m\n\u001b[0;32m    664\u001b[0m \u001b[38;5;28;01melse\u001b[39;00m:\n\u001b[0;32m    665\u001b[0m     time\u001b[38;5;241m.\u001b[39msleep(interval)\n",
      "File \u001b[1;32m~\\.conda\\envs\\DMD\\lib\\site-packages\\matplotlib\\backends\\backend_qt.py:412\u001b[0m, in \u001b[0;36mFigureCanvasQT.start_event_loop\u001b[1;34m(self, timeout)\u001b[0m\n\u001b[0;32m    409\u001b[0m \u001b[38;5;28;01mif\u001b[39;00m timeout \u001b[38;5;241m>\u001b[39m \u001b[38;5;241m0\u001b[39m:\n\u001b[0;32m    410\u001b[0m     _ \u001b[38;5;241m=\u001b[39m QtCore\u001b[38;5;241m.\u001b[39mQTimer\u001b[38;5;241m.\u001b[39msingleShot(\u001b[38;5;28mint\u001b[39m(timeout \u001b[38;5;241m*\u001b[39m \u001b[38;5;241m1000\u001b[39m), event_loop\u001b[38;5;241m.\u001b[39mquit)\n\u001b[1;32m--> 412\u001b[0m \u001b[38;5;28;01mwith\u001b[39;00m _maybe_allow_interrupt(event_loop):\n\u001b[0;32m    413\u001b[0m     qt_compat\u001b[38;5;241m.\u001b[39m_exec(event_loop)\n",
      "File \u001b[1;32m~\\.conda\\envs\\DMD\\lib\\contextlib.py:119\u001b[0m, in \u001b[0;36m_GeneratorContextManager.__enter__\u001b[1;34m(self)\u001b[0m\n\u001b[0;32m    117\u001b[0m \u001b[38;5;28;01mdel\u001b[39;00m \u001b[38;5;28mself\u001b[39m\u001b[38;5;241m.\u001b[39margs, \u001b[38;5;28mself\u001b[39m\u001b[38;5;241m.\u001b[39mkwds, \u001b[38;5;28mself\u001b[39m\u001b[38;5;241m.\u001b[39mfunc\n\u001b[0;32m    118\u001b[0m \u001b[38;5;28;01mtry\u001b[39;00m:\n\u001b[1;32m--> 119\u001b[0m     \u001b[38;5;28;01mreturn\u001b[39;00m \u001b[38;5;28;43mnext\u001b[39;49m\u001b[43m(\u001b[49m\u001b[38;5;28;43mself\u001b[39;49m\u001b[38;5;241;43m.\u001b[39;49m\u001b[43mgen\u001b[49m\u001b[43m)\u001b[49m\n\u001b[0;32m    120\u001b[0m \u001b[38;5;28;01mexcept\u001b[39;00m \u001b[38;5;167;01mStopIteration\u001b[39;00m:\n\u001b[0;32m    121\u001b[0m     \u001b[38;5;28;01mraise\u001b[39;00m \u001b[38;5;167;01mRuntimeError\u001b[39;00m(\u001b[38;5;124m\"\u001b[39m\u001b[38;5;124mgenerator didn\u001b[39m\u001b[38;5;124m'\u001b[39m\u001b[38;5;124mt yield\u001b[39m\u001b[38;5;124m\"\u001b[39m) \u001b[38;5;28;01mfrom\u001b[39;00m \u001b[38;5;28;01mNone\u001b[39;00m\n",
      "File \u001b[1;32m~\\.conda\\envs\\DMD\\lib\\site-packages\\matplotlib\\backends\\qt_compat.py:196\u001b[0m, in \u001b[0;36m_maybe_allow_interrupt\u001b[1;34m(qapp)\u001b[0m\n\u001b[0;32m    193\u001b[0m     \u001b[38;5;28;01mreturn\u001b[39;00m\n\u001b[0;32m    195\u001b[0m handler_args \u001b[38;5;241m=\u001b[39m \u001b[38;5;28;01mNone\u001b[39;00m\n\u001b[1;32m--> 196\u001b[0m wsock, rsock \u001b[38;5;241m=\u001b[39m \u001b[43msocket\u001b[49m\u001b[38;5;241;43m.\u001b[39;49m\u001b[43msocketpair\u001b[49m\u001b[43m(\u001b[49m\u001b[43m)\u001b[49m\n\u001b[0;32m    197\u001b[0m wsock\u001b[38;5;241m.\u001b[39msetblocking(\u001b[38;5;28;01mFalse\u001b[39;00m)\n\u001b[0;32m    198\u001b[0m rsock\u001b[38;5;241m.\u001b[39msetblocking(\u001b[38;5;28;01mFalse\u001b[39;00m)\n",
      "File \u001b[1;32m~\\.conda\\envs\\DMD\\lib\\socket.py:629\u001b[0m, in \u001b[0;36msocketpair\u001b[1;34m(family, type, proto)\u001b[0m\n\u001b[0;32m    625\u001b[0m     \u001b[38;5;28;01mraise\u001b[39;00m \u001b[38;5;167;01mValueError\u001b[39;00m(\u001b[38;5;124m\"\u001b[39m\u001b[38;5;124mOnly protocol zero is supported\u001b[39m\u001b[38;5;124m\"\u001b[39m)\n\u001b[0;32m    627\u001b[0m \u001b[38;5;66;03m# We create a connected TCP socket. Note the trick with\u001b[39;00m\n\u001b[0;32m    628\u001b[0m \u001b[38;5;66;03m# setblocking(False) that prevents us from having to create a thread.\u001b[39;00m\n\u001b[1;32m--> 629\u001b[0m lsock \u001b[38;5;241m=\u001b[39m \u001b[43msocket\u001b[49m\u001b[43m(\u001b[49m\u001b[43mfamily\u001b[49m\u001b[43m,\u001b[49m\u001b[43m \u001b[49m\u001b[38;5;28;43mtype\u001b[39;49m\u001b[43m,\u001b[49m\u001b[43m \u001b[49m\u001b[43mproto\u001b[49m\u001b[43m)\u001b[49m\n\u001b[0;32m    630\u001b[0m \u001b[38;5;28;01mtry\u001b[39;00m:\n\u001b[0;32m    631\u001b[0m     lsock\u001b[38;5;241m.\u001b[39mbind((host, \u001b[38;5;241m0\u001b[39m))\n",
      "File \u001b[1;32m~\\.conda\\envs\\DMD\\lib\\socket.py:232\u001b[0m, in \u001b[0;36msocket.__init__\u001b[1;34m(self, family, type, proto, fileno)\u001b[0m\n\u001b[0;32m    230\u001b[0m     \u001b[38;5;28;01mif\u001b[39;00m proto \u001b[38;5;241m==\u001b[39m \u001b[38;5;241m-\u001b[39m\u001b[38;5;241m1\u001b[39m:\n\u001b[0;32m    231\u001b[0m         proto \u001b[38;5;241m=\u001b[39m \u001b[38;5;241m0\u001b[39m\n\u001b[1;32m--> 232\u001b[0m \u001b[43m_socket\u001b[49m\u001b[38;5;241;43m.\u001b[39;49m\u001b[43msocket\u001b[49m\u001b[38;5;241;43m.\u001b[39;49m\u001b[38;5;21;43m__init__\u001b[39;49m\u001b[43m(\u001b[49m\u001b[38;5;28;43mself\u001b[39;49m\u001b[43m,\u001b[49m\u001b[43m \u001b[49m\u001b[43mfamily\u001b[49m\u001b[43m,\u001b[49m\u001b[43m \u001b[49m\u001b[38;5;28;43mtype\u001b[39;49m\u001b[43m,\u001b[49m\u001b[43m \u001b[49m\u001b[43mproto\u001b[49m\u001b[43m,\u001b[49m\u001b[43m \u001b[49m\u001b[43mfileno\u001b[49m\u001b[43m)\u001b[49m\n\u001b[0;32m    233\u001b[0m \u001b[38;5;28mself\u001b[39m\u001b[38;5;241m.\u001b[39m_io_refs \u001b[38;5;241m=\u001b[39m \u001b[38;5;241m0\u001b[39m\n\u001b[0;32m    234\u001b[0m \u001b[38;5;28mself\u001b[39m\u001b[38;5;241m.\u001b[39m_closed \u001b[38;5;241m=\u001b[39m \u001b[38;5;28;01mFalse\u001b[39;00m\n",
      "\u001b[1;31mKeyboardInterrupt\u001b[0m: "
     ]
    }
   ],
   "source": [
    "sigma = np.zeros(PhiU.shape)\n",
    "for i in range(6):\n",
    "    sigma += np.outer(An[:, i], PhiU[:, i].T).T\n",
    "for j in range(100):\n",
    "    plt.clf()\n",
    "    plot_durations(np.reshape(sigma[:, j].T + U0x, (ny, nx)).T)\n",
    "    plt.pause(0.01)   \n",
    "# 前6阶还原"
   ]
  },
  {
   "cell_type": "code",
   "execution_count": null,
   "id": "89df3bb4-75a0-40dd-b503-35a095c57cc6",
   "metadata": {},
   "outputs": [],
   "source": []
  }
 ],
 "metadata": {
  "kernelspec": {
   "display_name": "DMD",
   "language": "python",
   "name": "dmd"
  },
  "language_info": {
   "codemirror_mode": {
    "name": "ipython",
    "version": 3
   },
   "file_extension": ".py",
   "mimetype": "text/x-python",
   "name": "python",
   "nbconvert_exporter": "python",
   "pygments_lexer": "ipython3",
   "version": "3.9.18"
  }
 },
 "nbformat": 4,
 "nbformat_minor": 5
}
