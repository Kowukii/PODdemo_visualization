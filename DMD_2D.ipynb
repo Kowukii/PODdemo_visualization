{
 "cells": [
  {
   "cell_type": "code",
   "execution_count": 1,
   "id": "c3d15308-7270-42f2-b7e8-ae408b413998",
   "metadata": {},
   "outputs": [],
   "source": [
    "import numpy as np\n",
    "import matplotlib.pyplot as plt\n",
    "import scipy"
   ]
  },
  {
   "cell_type": "code",
   "execution_count": 2,
   "id": "688b1157-a22c-40f7-a423-36ce1aaf7a67",
   "metadata": {},
   "outputs": [],
   "source": [
    "def toReal(x):\n",
    "    if np.iscomplexobj(x):\n",
    "        return float(np.real(x))\n",
    "\n",
    "\n",
    "def matrix2real(matrix):\n",
    "    return np.vectorize(toReal)(matrix)"
   ]
  },
  {
   "cell_type": "code",
   "execution_count": 5,
   "id": "2acc83bc-d34d-40d4-b57c-99f0b7fbf8bf",
   "metadata": {},
   "outputs": [
    {
     "data": {
      "text/plain": [
       "(51, 81, 121)"
      ]
     },
     "execution_count": 5,
     "metadata": {},
     "output_type": "execute_result"
    }
   ],
   "source": [
    "# 定义流场时间和空间信息\n",
    "x = np.arange(-8, 8.2, 0.2)  # 81 空间x\n",
    "y = np.arange(-5, 5.2, 0.2)  # 51 空间y\n",
    "t = np.arange(0, 6.05, 0.05)  # 121 时间\n",
    "Fs = 1 / (t[1] - t[0]) # 采样频率\n",
    "X, Y, T = np.meshgrid(x, y, t)\n",
    "Ny, Nx, Nt = X.shape\n",
    "Ny, Nx, Nt"
   ]
  },
  {
   "cell_type": "code",
   "execution_count": 10,
   "id": "9ed31d99-e9ec-4f37-977b-fb355966f8c4",
   "metadata": {},
   "outputs": [
    {
     "data": {
      "text/plain": [
       "(51, 81, 121)"
      ]
     },
     "execution_count": 10,
     "metadata": {},
     "output_type": "execute_result"
    }
   ],
   "source": [
    "# 自定义流场，U是沿x方向的速度分量，V是沿y方向的速度分量\n",
    "U0 = -1 * Y ** 2 + 5\n",
    "V0 = 0 * Y # UV0不随时间变化，设为定常流场\n",
    "U1 = -5 * np.sin(Y) * np.cos(2 * np.pi * 0.3 * Y) * np.exp(T / 5)\n",
    "V1 = 5 * np.sin(X - 1 * np.pi * T) * np.cos(2 * np.pi * 0.3 * Y) * np.exp(T / 5)\n",
    "U3 = 0.01"
   ]
  },
  {
   "cell_type": "code",
   "execution_count": null,
   "id": "535d84bb-22c6-489d-ab2c-7e403eac6caf",
   "metadata": {},
   "outputs": [],
   "source": []
  }
 ],
 "metadata": {
  "kernelspec": {
   "display_name": "DMD",
   "language": "python",
   "name": "dmd"
  },
  "language_info": {
   "codemirror_mode": {
    "name": "ipython",
    "version": 3
   },
   "file_extension": ".py",
   "mimetype": "text/x-python",
   "name": "python",
   "nbconvert_exporter": "python",
   "pygments_lexer": "ipython3",
   "version": "3.9.18"
  }
 },
 "nbformat": 4,
 "nbformat_minor": 5
}
