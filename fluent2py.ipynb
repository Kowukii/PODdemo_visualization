{
 "cells": [
  {
   "cell_type": "code",
   "execution_count": 1,
   "id": "74ac3e84-a60d-482e-9cd9-e8b785bc9012",
   "metadata": {},
   "outputs": [],
   "source": [
    "import h5py"
   ]
  },
  {
   "cell_type": "code",
   "execution_count": 53,
   "id": "ea3860ef-66ae-4c1e-9b31-8c1bf64c8086",
   "metadata": {},
   "outputs": [
    {
     "name": "stdout",
     "output_type": "stream",
     "text": [
      "/results/1/phase-1/cells/SV_BF_V\n",
      "/results/1/phase-1/cells/SV_D\n",
      "/results/1/phase-1/cells/SV_DENSITY\n",
      "/results/1/phase-1/cells/SV_DENSITY_M1\n",
      "/results/1/phase-1/cells/SV_D_M1\n",
      "/results/1/phase-1/cells/SV_K\n",
      "/results/1/phase-1/cells/SV_K_M1\n",
      "/results/1/phase-1/cells/SV_LSF\n",
      "/results/1/phase-1/cells/SV_LSF_M1\n",
      "/results/1/phase-1/cells/SV_LSF_M1_0\n",
      "/results/1/phase-1/cells/SV_MU_LAM\n",
      "/results/1/phase-1/cells/SV_MU_T\n",
      "/results/1/phase-1/cells/SV_P\n",
      "/results/1/phase-1/cells/SV_P_M1\n",
      "/results/1/phase-1/cells/SV_U\n",
      "/results/1/phase-1/cells/SV_U_M1\n",
      "/results/1/phase-1/cells/SV_V\n",
      "/results/1/phase-1/cells/SV_V_M1\n",
      "/results/1/phase-1/cells/SV_WALL_DIST\n",
      "/results/1/phase-1/cells/fields\n",
      "/results/1/phase-1/faces/SV_D\n",
      "/results/1/phase-1/faces/SV_DENSITY\n",
      "/results/1/phase-1/faces/SV_FLUX\n",
      "/results/1/phase-1/faces/SV_K\n",
      "/results/1/phase-1/faces/SV_LSF\n",
      "/results/1/phase-1/faces/SV_P\n",
      "/results/1/phase-1/faces/SV_U\n",
      "/results/1/phase-1/faces/SV_V\n",
      "/results/1/phase-1/faces/SV_VFLUX\n",
      "/results/1/phase-1/faces/SV_VFLUX_M1\n",
      "/results/1/phase-1/faces/SV_WALL_DIFFUSIVE_BC_MFLUX\n",
      "/results/1/phase-1/faces/SV_WALL_SHEAR\n",
      "/results/1/phase-1/faces/SV_WALL_V\n",
      "/results/1/phase-1/faces/SV_WALL_VV\n",
      "/results/1/phase-1/faces/SV_WALL_YPLUS\n",
      "/results/1/phase-1/faces/SV_WALL_YPLUS_UTAU\n",
      "/results/1/phase-1/faces/fields\n",
      "<HDF5 dataset \"1\": shape (7884,), type \"<f8\"> /results/1/phase-1/cells/SV_DENSITY/1\n"
     ]
    },
    {
     "data": {
      "text/plain": [
       "((7884,),\n",
       " array([997.77215982, 997.04206951, 997.93152462, ..., 997.75787735,\n",
       "        344.51473336, 964.11014716]))"
      ]
     },
     "execution_count": 53,
     "metadata": {},
     "output_type": "execute_result"
    }
   ],
   "source": [
    "f = h5py.File('dataset/1230/FFF-25-00110.dat.h5',\"r\")\n",
    "# for key in f.keys():\n",
    "# \t #print(f[key], key, f[key].name, f[key].value) # 因为这里有group对象它是没有value属性的,故会异常。另外字符串读出来是字节流，需要解码成字符串。\n",
    "    #     print(f[key], key, f[key].name)\n",
    "results = f[\"results\"]\n",
    "settings = f[\"settings\"]\n",
    "# for key in results.keys():\n",
    "#     print(results[key], results[key].name)\n",
    "folder1 = results[\"1\"]\n",
    "residuals = results[\"residuals\"]\n",
    "# for key in folder1.keys():\n",
    "#     print(folder1[key], folder1[key].name)\n",
    "# for key in residuals.keys():\n",
    "#     print(residuals[key], residuals[key].name)\n",
    "phase1 = folder1[\"phase-1\"]\n",
    "phase2 = folder1[\"phase-2\"]\n",
    "phase3 = folder1[\"phase-3\"]\n",
    "col = [phase1, phase2, phase3]\n",
    "# for i in range(len(col)):\n",
    "#     for key in col[i].keys():\n",
    "#         print(col[i][key], col[i][key].name)\n",
    "cells = phase1[\"cells\"]\n",
    "faces = phase1[\"faces\"]\n",
    "col = [cells, faces]\n",
    "for i in range(len(col)):\n",
    "    for key in col[i].keys():\n",
    "        # print(col[i][key], '\\n', col[i][key].name)\n",
    "        print(col[i][key].name)\n",
    "        \n",
    "SV_DENSITY = cells[\"SV_DENSITY\"]\n",
    "for key in SV_DENSITY.keys():\n",
    "        print(SV_DENSITY[key], SV_DENSITY[key].name) \n",
    "       \n",
    "data = SV_DENSITY[\"1\"][:]\n",
    "cells_folder = \"SV_DENSITY_M1\"\n",
    "SV_DENSITY = f[\"results\"][\"1\"][\"phase-1\"][\"cells\"][cells_folder][\"1\"][:]\n",
    "\n",
    "SV_DENSITY.shape, SV_DENSITY"
   ]
  },
  {
   "cell_type": "code",
   "execution_count": 71,
   "id": "ee30755e-f898-4721-a2ac-59ceb5af3c01",
   "metadata": {},
   "outputs": [
    {
     "data": {
      "text/plain": [
       "((712, 3),\n",
       " array([[ 0.00000000e+00,  2.65516796e-05,  0.00000000e+00],\n",
       "        [ 0.00000000e+00,  2.03334007e-05,  0.00000000e+00],\n",
       "        [-0.00000000e+00,  1.00534142e-05,  0.00000000e+00],\n",
       "        ...,\n",
       "        [-0.00000000e+00,  1.75102893e-06,  0.00000000e+00],\n",
       "        [-0.00000000e+00,  1.77369907e-08,  0.00000000e+00],\n",
       "        [-0.00000000e+00,  3.84932678e-10,  0.00000000e+00]]))"
      ]
     },
     "execution_count": 71,
     "metadata": {},
     "output_type": "execute_result"
    }
   ],
   "source": [
    "cells_folder = \"SV_WALL_SHEAR\"\n",
    "data = f[\"results\"][\"1\"][\"phase-1\"][\"faces\"][cells_folder][\"1\"][:]\n",
    "# data = f[\"results\"][\"1\"][\"phase-1\"][\"cells\"][cells_folder][:]\n",
    "data.shape, data"
   ]
  },
  {
   "cell_type": "code",
   "execution_count": 10,
   "id": "f94cc4bc-3fde-439d-a8f4-10a0da88ae67",
   "metadata": {},
   "outputs": [
    {
     "name": "stdout",
     "output_type": "stream",
     "text": [
      "names: /results\n",
      "names: /settings\n"
     ]
    }
   ],
   "source": [
    "from h5py import Dataset, Group, File\n",
    "with File('dataset/1230/FFF-25-00110.dat.h5','r') as f:\n",
    "\tfor k in f.keys():\n",
    "\t\tif isinstance(f[k], Dataset):\n",
    "\t\t\tprint(\"values:\", f[k].value)\n",
    "\t\telse:\n",
    "\t\t\tprint(\"names:\", f[k].name)\n"
   ]
  },
  {
   "cell_type": "code",
   "execution_count": null,
   "id": "7323ebf7-4ba0-404c-a8fd-03117a6520cb",
   "metadata": {},
   "outputs": [],
   "source": []
  }
 ],
 "metadata": {
  "kernelspec": {
   "display_name": "DMD",
   "language": "python",
   "name": "dmd"
  },
  "language_info": {
   "codemirror_mode": {
    "name": "ipython",
    "version": 3
   },
   "file_extension": ".py",
   "mimetype": "text/x-python",
   "name": "python",
   "nbconvert_exporter": "python",
   "pygments_lexer": "ipython3",
   "version": "3.9.18"
  }
 },
 "nbformat": 4,
 "nbformat_minor": 5
}
